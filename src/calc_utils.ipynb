{
 "cells": [
  {
   "cell_type": "code",
   "execution_count": 1,
   "metadata": {},
   "outputs": [],
   "source": [
    "import argparse\n",
    "import datetime\n",
    "import json\n",
    "import numpy as np\n",
    "import os\n",
    "import time\n",
    "import timm.optim.optim_factory as optim_factory\n",
    "from pathlib import Path\n",
    "from loss.loss import WeightedMSE\n",
    "import torch\n",
    "import torch.backends.cudnn as cudnn\n",
    "try:\n",
    "    from tensorboardX import SummaryWriter\n",
    "except:\n",
    "    from torch.utils.tensorboard import SummaryWriter\n",
    "\n",
    "import timm\n",
    "\n",
    "assert timm.__version__ == \"0.3.2\" # version check\n",
    "from timm.models.layers import trunc_normal_\n",
    "from timm.data.mixup import Mixup\n",
    "from timm.loss import LabelSmoothingCrossEntropy, SoftTargetCrossEntropy\n",
    "\n",
    "import util_mamba.lr_decay as lrd\n",
    "import util_mamba.misc as misc\n",
    "from util_mamba.datasets import build_dataset\n",
    "from util_mamba.pos_embed import interpolate_pos_embed\n",
    "from util_mamba.misc import NativeScalerWithGradNormCount as NativeScaler\n",
    "from data_provider_labeled import Train as Trainset\n",
    "import yaml\n",
    "from attrdict import AttrDict\n",
    "from utils.show import show_one\n",
    "from utils.shift_channels import shift_func\n",
    "from segmamba import SegMamba\n",
    "\n",
    "from engine_finetune import train_one_epoch, evaluate"
   ]
  },
  {
   "cell_type": "code",
   "execution_count": 2,
   "metadata": {},
   "outputs": [
    {
     "name": "stdout",
     "output_type": "stream",
     "text": [
      "Total parameters: 44280867\n"
     ]
    }
   ],
   "source": [
    "model = SegMamba(in_chans=1, out_chans=3)\n",
    "total_params = sum(p.numel() for p in model.parameters() if p.requires_grad)\n",
    "\n",
    "print(f\"Total parameters: {total_params}\")"
   ]
  }
 ],
 "metadata": {
  "kernelspec": {
   "display_name": "Python 3",
   "language": "python",
   "name": "python3"
  },
  "language_info": {
   "codemirror_mode": {
    "name": "ipython",
    "version": 3
   },
   "file_extension": ".py",
   "mimetype": "text/x-python",
   "name": "python",
   "nbconvert_exporter": "python",
   "pygments_lexer": "ipython3",
   "version": "3.8.10"
  }
 },
 "nbformat": 4,
 "nbformat_minor": 2
}
